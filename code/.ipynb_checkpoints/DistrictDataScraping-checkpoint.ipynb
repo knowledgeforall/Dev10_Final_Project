{
 "cells": [
  {
   "cell_type": "code",
   "execution_count": null,
   "metadata": {},
   "outputs": [],
   "source": [
    "from bs4 import BeautifulSoup\n",
    "import requests\n",
    "import time\n",
    "import pandas as pd"
   ]
  },
  {
   "cell_type": "markdown",
   "metadata": {},
   "source": [
    "District names and district unique identifiers"
   ]
  },
  {
   "cell_type": "code",
   "execution_count": null,
   "metadata": {},
   "outputs": [],
   "source": [
    "districtnames = []\n",
    "districtlink = []\n",
    "\n",
    "for i in range (65,90):\n",
    "\n",
    "    url = 'https://data.nysed.gov/lists.php?start={}&type=district'\n",
    "    url = url.format(i)\n",
    "    response = requests.get(url)\n",
    "\n",
    "    rawhtml = response.text\n",
    "    \n",
    "    soup = BeautifulSoup(rawhtml,'html.parser')\n",
    "    \n",
    "    districtnamesraw = soup.find_all('div', attrs = {'class' : 'title'})\n",
    "\n",
    "    for i in districtnamesraw:\n",
    "        name = i.find('a')\n",
    "        if name == None:\n",
    "            pass\n",
    "        else:\n",
    "            district = name.text\n",
    "            districtnames.append(district)\n",
    "            link = name.get('href')\n",
    "            link = link[-12:]\n",
    "            districtlink.append(link)\n",
    "\n",
    "cleaneddistrictnames = []\n",
    "\n",
    "for i in districtnames:\n",
    "    newnames = i.rstrip()\n",
    "    cleaneddistrictnames.append(newnames)"
   ]
  },
  {
   "cell_type": "markdown",
   "metadata": {},
   "source": [
    "Graduation and Dropout Rate"
   ]
  },
  {
   "cell_type": "code",
   "execution_count": null,
   "metadata": {},
   "outputs": [],
   "source": [
    "graduationratelist = []\n",
    "dropoutratelist = []\n",
    "\n",
    "for i in districtlink:\n",
    "    \n",
    "    url = 'https://data.nysed.gov/gradrate.php?year=2020&instid={}'\n",
    "    \n",
    "    url = url.format(i)\n",
    "    \n",
    "    response = requests.get(url)\n",
    "\n",
    "    rawhtml = response.text\n",
    "\n",
    "    soup = BeautifulSoup(rawhtml,'html.parser')\n",
    "\n",
    "    rawgraduationdata = soup.find_all('tr')\n",
    "\n",
    "    allstudentsrow = rawgraduationdata[2]\n",
    "\n",
    "    graduationrate = allstudentsrow.find('td', attrs = {'data-label' : 'Percentage of Graduates'})\n",
    "\n",
    "    graduationrate = graduationrate.text\n",
    "    \n",
    "    dropoutrate = allstudentsrow.find('td', attrs = {'data-label' : 'Percentage of Dropout'})\n",
    "    \n",
    "    dropoutrate = dropoutrate.text\n",
    "\n",
    "    graduationratelist.append(graduationrate)\n",
    "    \n",
    "    dropoutratelist.append(dropoutrate)\n",
    "    \n",
    "    print('graduation rate was ' + str(graduationrate) + ' and the drop out rate was ' + dropoutrate)"
   ]
  },
  {
   "cell_type": "code",
   "execution_count": null,
   "metadata": {},
   "outputs": [],
   "source": [
    "# remove % in each index\n",
    "\n",
    "graduationratelist = [x.replace('%', '') for x in graduationratelist]\n",
    "dropoutratelist = [x.replace('%', '') for x in dropoutratelist]"
   ]
  },
  {
   "cell_type": "markdown",
   "metadata": {},
   "source": [
    "Funding Per Student"
   ]
  },
  {
   "cell_type": "code",
   "execution_count": null,
   "metadata": {},
   "outputs": [],
   "source": [
    "fundingperstudentlist = []\n",
    "\n",
    "for i in districtlink:\n",
    "    \n",
    "    url = 'https://data.nysed.gov/expenditures.php?year=2020&instid={}'.format(i)\n",
    "\n",
    "    response = requests.get(url)\n",
    "\n",
    "    rawhtml = response.text\n",
    "\n",
    "    soup = BeautifulSoup(rawhtml,'html.parser')\n",
    "\n",
    "    fundingperstudent = soup.find_all('div', attrs = {'class' : 'bullet-item columns'})\n",
    "\n",
    "    if len(fundingperstudent) <1:\n",
    "\n",
    "        fundingperstudentlist.append('N/A')\n",
    "\n",
    "        print(\"No funding available\")\n",
    "\n",
    "    else:\n",
    "\n",
    "        fundingperstudent = fundingperstudent[5].find('h4').text\n",
    "\n",
    "        print(fundingperstudent)\n",
    "\n",
    "        fundingperstudentlist.append(fundingperstudent)"
   ]
  },
  {
   "cell_type": "code",
   "execution_count": null,
   "metadata": {},
   "outputs": [],
   "source": [
    "#Remove $ and commas in each index\n",
    "\n",
    "fundingperstudentlist = [x.replace('$', '') for x in fundingperstudentlist]\n",
    "fundingperstudentlist = [x.replace(',', '') for x in fundingperstudentlist]"
   ]
  },
  {
   "cell_type": "markdown",
   "metadata": {},
   "source": [
    "Total Amount of Students Enrolled Per District"
   ]
  },
  {
   "cell_type": "code",
   "execution_count": null,
   "metadata": {},
   "outputs": [],
   "source": [
    "totalenrollmentlist = []\n",
    "\n",
    "for i in districtlink:\n",
    "\n",
    "    url = 'https://data.nysed.gov/enrollment.php?year=2020&instid={}'.format(i)\n",
    "\n",
    "    response = requests.get(url)\n",
    "\n",
    "    rawhtml = response.text\n",
    "\n",
    "    soup = BeautifulSoup(rawhtml,'html.parser')\n",
    "\n",
    "    totalenrollment = soup.find('div', attrs = {'class' : 'highlight blue spacing-top-15'})\n",
    "\n",
    "    totalenrollment = totalenrollment.text\n",
    "\n",
    "    totalenrollment = totalenrollment[17:]\n",
    "    \n",
    "    totalenrollmentlist.append(totalenrollment)\n",
    "\n",
    "    print(totalenrollment)"
   ]
  },
  {
   "cell_type": "code",
   "execution_count": null,
   "metadata": {},
   "outputs": [],
   "source": [
    "#Strip off commas\n",
    "totalenrollmentlist = [x.replace(',', '') for x in totalenrollmentlist]\n",
    "print(totalenrollmentlist)"
   ]
  },
  {
   "cell_type": "markdown",
   "metadata": {},
   "source": [
    "Amount of Students that were Male"
   ]
  },
  {
   "cell_type": "code",
   "execution_count": null,
   "metadata": {},
   "outputs": [],
   "source": [
    "enrollmentlistbymale = []\n",
    "\n",
    "for i in districtlink:\n",
    "\n",
    "    url = 'https://data.nysed.gov/enrollment.php?year=2020&instid={}'.format(i)\n",
    "    \n",
    "    response = requests.get(url)\n",
    "\n",
    "    rawhtml = response.text\n",
    "\n",
    "    soup = BeautifulSoup(rawhtml,'html.parser')\n",
    "\n",
    "    maleenrollment = soup.find_all('div', attrs = {'class' : 'small-12 large-6 medium-6 bullet-item columns'})\n",
    "\n",
    "    maleenrollment = maleenrollment[0]\n",
    "\n",
    "    maleenrollment = maleenrollment.find('h4')\n",
    "    \n",
    "    maleenrollment = maleenrollment.text\n",
    "\n",
    "    print(maleenrollment)\n",
    "    \n",
    "    enrollmentlistbymale.append(maleenrollment)\n"
   ]
  },
  {
   "cell_type": "code",
   "execution_count": null,
   "metadata": {},
   "outputs": [],
   "source": [
    "#Strip off commas\n",
    "enrollmentlistbymale = [x.replace(',', '') for x in enrollmentlistbymale]"
   ]
  },
  {
   "cell_type": "markdown",
   "metadata": {},
   "source": [
    "Amount of Students that were Female"
   ]
  },
  {
   "cell_type": "code",
   "execution_count": null,
   "metadata": {},
   "outputs": [],
   "source": [
    "enrollmentlistbyfemale = []\n",
    "\n",
    "\n",
    "for i in districtlink:\n",
    "\n",
    "    url = 'https://data.nysed.gov/enrollment.php?year=2020&instid={}'.format(i)\n",
    "\n",
    "    response = requests.get(url)\n",
    "\n",
    "    rawhtml = response.text\n",
    "\n",
    "    soup = BeautifulSoup(rawhtml,'html.parser')\n",
    "\n",
    "    femaleenrollment = soup.find_all('div', attrs = {'class' : 'small-12 large-6 medium-6 bullet-item columns'})\n",
    "\n",
    "    femaleenrollment = femaleenrollment[2]\n",
    "\n",
    "    femaleenrollment = femaleenrollment.find('h4')\n",
    "\n",
    "    femaleenrollment = femaleenrollment.text\n",
    "\n",
    "    print(femaleenrollment)\n",
    "\n",
    "    enrollmentlistbyfemale.append(femaleenrollment)"
   ]
  },
  {
   "cell_type": "code",
   "execution_count": null,
   "metadata": {},
   "outputs": [],
   "source": [
    "#Strip off commas \n",
    "\n",
    "enrollmentlistbyfemale = [x.replace(',', '') for x in enrollmentlistbyfemale]\n",
    "print(enrollmentlistbyfemale)"
   ]
  },
  {
   "cell_type": "markdown",
   "metadata": {},
   "source": [
    "Percentage of Minority Students in District"
   ]
  },
  {
   "cell_type": "code",
   "execution_count": null,
   "metadata": {},
   "outputs": [],
   "source": [
    "whitestudentsenrolled = []\n",
    "\n",
    "for i in districtlink:\n",
    "\n",
    "\n",
    "    url = 'https://data.nysed.gov/enrollment.php?year=2020&instid={}'.format(i)\n",
    "\n",
    "    response = requests.get(url)\n",
    "\n",
    "    rawhtml = response.text\n",
    "\n",
    "    soup = BeautifulSoup(rawhtml,'html.parser')\n",
    "\n",
    "    amount = soup.find(text = 'WHITE')\n",
    "\n",
    "    if amount == None:\n",
    "        print('no info available')\n",
    "        whitestudentsenrolled.append('N/A')\n",
    "    else:\n",
    "        amount = amount.find_next().text\n",
    "        print(amount)\n",
    "        whitestudentsenrolled.append(amount)"
   ]
  },
  {
   "cell_type": "code",
   "execution_count": null,
   "metadata": {},
   "outputs": [],
   "source": [
    "whitestudentsenrolled = [x.replace('\\n', '') for x in whitestudentsenrolled]\n",
    "whitestudentsenrolled = [x.replace(',', '') for x in whitestudentsenrolled]\n",
    "print(whitestudentsenrolled)"
   ]
  },
  {
   "cell_type": "code",
   "execution_count": null,
   "metadata": {},
   "outputs": [],
   "source": [
    "finaldf = pd.DataFrame(list(zip(cleaneddistrictnames,graduationratelist,dropoutratelist,fundingperstudentlist,totalenrollmentlist,enrollmentlistbymale,enrollmentlistbyfemale,whitestudentsenrolled)), columns = ['DistrictName','GraduationPercentageRate','DropoutPercentageRate','FundingPerStudent','TotalEnrolled','MalesEnrolled','FemalesEnrolled','WhiteStudentsEnrolled'])"
   ]
  },
  {
   "cell_type": "code",
   "execution_count": null,
   "metadata": {},
   "outputs": [],
   "source": [
    "finaldf.columns"
   ]
  },
  {
   "cell_type": "code",
   "execution_count": null,
   "metadata": {},
   "outputs": [],
   "source": [
    "#Remove all rows that are N/A in column in order to transform into % of ethnicity column\n",
    "finaldf = finaldf[finaldf.WhiteStudentsEnrolled != 'N/A']\n",
    "finaldf.head(5)"
   ]
  },
  {
   "cell_type": "code",
   "execution_count": null,
   "metadata": {},
   "outputs": [],
   "source": [
    "#create column that represents % of students that were minority\n",
    "\n",
    "finaldf['Percentage of Minority Students'] = ((pd.to_numeric(finaldf['TotalEnrolled']) - pd.to_numeric(finaldf['WhiteStudentsEnrolled'])) * 100) /  pd.to_numeric(finaldf['TotalEnrolled'])\n",
    "finaldf['Percentage of Minority Students'] = finaldf['Percentage of Minority Students'].round(1)\n",
    "finaldf.head()"
   ]
  },
  {
   "cell_type": "code",
   "execution_count": null,
   "metadata": {},
   "outputs": [],
   "source": [
    "finaldf.to_csv('../Datasets/PreliminaryDistrictData1.csv')"
   ]
  },
  {
   "cell_type": "code",
   "execution_count": 8,
   "metadata": {},
   "outputs": [],
   "source": [
    "import pandas as pd\n",
    "finaldf = pd.read_csv('../Datasets/PreliminaryDistrictData1.csv')"
   ]
  },
  {
   "cell_type": "markdown",
   "metadata": {},
   "source": [
    "Add Median Income per District to DataFrame"
   ]
  },
  {
   "cell_type": "code",
   "execution_count": 2,
   "metadata": {},
   "outputs": [
    {
     "name": "stdout",
     "output_type": "stream",
     "text": [
      "                         DistrictName  HouseholdIncome\n",
      "0     ADDISON CENTRAL SCHOOL DISTRICT     59328.000000\n",
      "1  ADIRONDACK CENTRAL SCHOOL DISTRICT     63986.357143\n",
      "2       AFTON CENTRAL SCHOOL DISTRICT     54818.285714\n",
      "3       AKRON CENTRAL SCHOOL DISTRICT     76903.750000\n",
      "4         ALBANY CITY SCHOOL DISTRICT     61049.181818\n"
     ]
    }
   ],
   "source": [
    "medianincome = pd.read_csv('../Datasets/medianincome.csv')\n",
    "print(medianincome.head())"
   ]
  },
  {
   "cell_type": "code",
   "execution_count": 3,
   "metadata": {},
   "outputs": [],
   "source": [
    "#Clean district names to match the original district names\n",
    "\n",
    "medianincome = medianincome.replace('CENTRAL SCHOOL DISTRICT','CSD', regex = True)\n",
    "medianincome = medianincome.replace('UNION FREE SCHOOL DISTRICT','UFSD', regex = True)"
   ]
  },
  {
   "cell_type": "markdown",
   "metadata": {},
   "source": [
    "Merge Dataframes"
   ]
  },
  {
   "cell_type": "code",
   "execution_count": 4,
   "metadata": {},
   "outputs": [
    {
     "data": {
      "text/html": [
       "<div>\n",
       "<style scoped>\n",
       "    .dataframe tbody tr th:only-of-type {\n",
       "        vertical-align: middle;\n",
       "    }\n",
       "\n",
       "    .dataframe tbody tr th {\n",
       "        vertical-align: top;\n",
       "    }\n",
       "\n",
       "    .dataframe thead th {\n",
       "        text-align: right;\n",
       "    }\n",
       "</style>\n",
       "<table border=\"1\" class=\"dataframe\">\n",
       "  <thead>\n",
       "    <tr style=\"text-align: right;\">\n",
       "      <th></th>\n",
       "      <th>Unnamed: 0</th>\n",
       "      <th>DistrictName</th>\n",
       "      <th>GraduationPercentageRate</th>\n",
       "      <th>DropoutPercentageRate</th>\n",
       "      <th>FundingPerStudent</th>\n",
       "      <th>TotalEnrolled</th>\n",
       "      <th>MalesEnrolled</th>\n",
       "      <th>FemalesEnrolled</th>\n",
       "      <th>Percentage of Minority Students</th>\n",
       "      <th>HouseholdIncome</th>\n",
       "    </tr>\n",
       "  </thead>\n",
       "  <tbody>\n",
       "    <tr>\n",
       "      <th>0</th>\n",
       "      <td>0</td>\n",
       "      <td>ADDISON CSD</td>\n",
       "      <td>90</td>\n",
       "      <td>3</td>\n",
       "      <td>23833.02</td>\n",
       "      <td>976</td>\n",
       "      <td>503</td>\n",
       "      <td>473</td>\n",
       "      <td>3.2</td>\n",
       "      <td>59328.0</td>\n",
       "    </tr>\n",
       "    <tr>\n",
       "      <th>1</th>\n",
       "      <td>1</td>\n",
       "      <td>ADIRONDACK CSD</td>\n",
       "      <td>92</td>\n",
       "      <td>5</td>\n",
       "      <td>14013.61</td>\n",
       "      <td>1145</td>\n",
       "      <td>575</td>\n",
       "      <td>570</td>\n",
       "      <td>1.7</td>\n",
       "      <td>63986.4</td>\n",
       "    </tr>\n",
       "    <tr>\n",
       "      <th>2</th>\n",
       "      <td>2</td>\n",
       "      <td>AFTON CSD</td>\n",
       "      <td>83</td>\n",
       "      <td>10</td>\n",
       "      <td>24128.02</td>\n",
       "      <td>507</td>\n",
       "      <td>262</td>\n",
       "      <td>245</td>\n",
       "      <td>8.9</td>\n",
       "      <td>54818.3</td>\n",
       "    </tr>\n",
       "    <tr>\n",
       "      <th>3</th>\n",
       "      <td>3</td>\n",
       "      <td>AKRON CSD</td>\n",
       "      <td>95</td>\n",
       "      <td>3</td>\n",
       "      <td>17552.56</td>\n",
       "      <td>1334</td>\n",
       "      <td>667</td>\n",
       "      <td>667</td>\n",
       "      <td>17.5</td>\n",
       "      <td>76903.8</td>\n",
       "    </tr>\n",
       "    <tr>\n",
       "      <th>4</th>\n",
       "      <td>4</td>\n",
       "      <td>ALBANY CITY SCHOOL DISTRICT</td>\n",
       "      <td>71</td>\n",
       "      <td>12</td>\n",
       "      <td>22382.65</td>\n",
       "      <td>8610</td>\n",
       "      <td>4444</td>\n",
       "      <td>4166</td>\n",
       "      <td>80.2</td>\n",
       "      <td>61049.2</td>\n",
       "    </tr>\n",
       "  </tbody>\n",
       "</table>\n",
       "</div>"
      ],
      "text/plain": [
       "   Unnamed: 0                 DistrictName GraduationPercentageRate  \\\n",
       "0           0                  ADDISON CSD                       90   \n",
       "1           1               ADIRONDACK CSD                       92   \n",
       "2           2                    AFTON CSD                       83   \n",
       "3           3                    AKRON CSD                       95   \n",
       "4           4  ALBANY CITY SCHOOL DISTRICT                       71   \n",
       "\n",
       "  DropoutPercentageRate  FundingPerStudent  TotalEnrolled  MalesEnrolled  \\\n",
       "0                     3           23833.02            976            503   \n",
       "1                     5           14013.61           1145            575   \n",
       "2                    10           24128.02            507            262   \n",
       "3                     3           17552.56           1334            667   \n",
       "4                    12           22382.65           8610           4444   \n",
       "\n",
       "   FemalesEnrolled  Percentage of Minority Students  HouseholdIncome  \n",
       "0              473                              3.2          59328.0  \n",
       "1              570                              1.7          63986.4  \n",
       "2              245                              8.9          54818.3  \n",
       "3              667                             17.5          76903.8  \n",
       "4             4166                             80.2          61049.2  "
      ]
     },
     "execution_count": 4,
     "metadata": {},
     "output_type": "execute_result"
    }
   ],
   "source": [
    "mergeddf = pd.merge(finaldf, medianincome, on = 'DistrictName', how = 'left')\n",
    "mergeddf = mergeddf.drop('WhiteStudentsEnrolled', axis = 1)\n",
    "mergeddf['Percentage of Minority Students'] = mergeddf['Percentage of Minority Students'].round(1)\n",
    "mergeddf['HouseholdIncome'] = mergeddf['HouseholdIncome'].round(1)\n",
    "\n",
    "mergeddf.head()"
   ]
  },
  {
   "cell_type": "code",
   "execution_count": 5,
   "metadata": {},
   "outputs": [],
   "source": [
    "mergeddf.to_csv('../Datasets/PreliminaryDistrictDataWITHMEDIANINCOME2.csv')"
   ]
  },
  {
   "cell_type": "code",
   "execution_count": 9,
   "metadata": {},
   "outputs": [],
   "source": [
    "# sql dump\n",
    "finaldf = finaldf.drop('Unnamed: 0',axis=1)\n",
    "finaldf['GraduationPercentageRate'] = pd.to_numeric(finaldf['GraduationPercentageRate'], errors='coerce')\n",
    "finaldf['DropoutPercentageRate'] = pd.to_numeric(finaldf['DropoutPercentageRate'], errors='coerce')\n",
    "finaldf = finaldf.replace('CITY SCHOOL DISTRICT','CITY SD', regex = True)\n",
    "finaldf = finaldf.replace('COMMON SCHOOL DISTRICT','COMN SD', regex = True)\n",
    "finaldf = finaldf.replace('CENTRAL HS DISTRICT','CENTRAL SCHOOL DISTRICT',regex = True)"
   ]
  },
  {
   "cell_type": "code",
   "execution_count": 10,
   "metadata": {},
   "outputs": [],
   "source": [
    "finaldf.to_csv('../SQL/DistrictData.csv',index=False)"
   ]
  }
 ],
 "metadata": {
  "kernelspec": {
   "display_name": "Python 3 (ipykernel)",
   "language": "python",
   "name": "python3"
  },
  "language_info": {
   "codemirror_mode": {
    "name": "ipython",
    "version": 3
   },
   "file_extension": ".py",
   "mimetype": "text/x-python",
   "name": "python",
   "nbconvert_exporter": "python",
   "pygments_lexer": "ipython3",
   "version": "3.9.12"
  },
  "vscode": {
   "interpreter": {
    "hash": "aee8b7b246df8f9039afb4144a1f6fd8d2ca17a180786b69acc140d282b71a49"
   }
  }
 },
 "nbformat": 4,
 "nbformat_minor": 2
}
