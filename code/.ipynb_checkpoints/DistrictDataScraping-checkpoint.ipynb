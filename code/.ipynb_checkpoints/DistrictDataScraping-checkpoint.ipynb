{
 "cells": [
  {
   "cell_type": "code",
   "execution_count": null,
   "metadata": {},
   "outputs": [],
   "source": [
    "from bs4 import BeautifulSoup\n",
    "import requests\n",
    "import time\n",
    "import pandas as pd"
   ]
  },
  {
   "cell_type": "markdown",
   "metadata": {},
   "source": [
    "District names and district unique identifiers"
   ]
  },
  {
   "cell_type": "code",
   "execution_count": null,
   "metadata": {},
   "outputs": [],
   "source": [
    "districtnames = []\n",
    "districtlink = []\n",
    "\n",
    "for i in range (65,90):\n",
    "\n",
    "    url = 'https://data.nysed.gov/lists.php?start={}&type=district'\n",
    "    url = url.format(i)\n",
    "    response = requests.get(url)\n",
    "\n",
    "    rawhtml = response.text\n",
    "    \n",
    "    soup = BeautifulSoup(rawhtml,'html.parser')\n",
    "    \n",
    "    districtnamesraw = soup.find_all('div', attrs = {'class' : 'title'})\n",
    "\n",
    "    for i in districtnamesraw:\n",
    "        name = i.find('a')\n",
    "        if name == None:\n",
    "            pass\n",
    "        else:\n",
    "            district = name.text\n",
    "            districtnames.append(district)\n",
    "            link = name.get('href')\n",
    "            link = link[-12:]\n",
    "            districtlink.append(link)\n",
    "\n",
    "cleaneddistrictnames = []\n",
    "\n",
    "for i in districtnames:\n",
    "    newnames = i.rstrip()\n",
    "    cleaneddistrictnames.append(newnames)"
   ]
  },
  {
   "cell_type": "markdown",
   "metadata": {},
   "source": [
    "Graduation and Dropout Rate"
   ]
  },
  {
   "cell_type": "code",
   "execution_count": null,
   "metadata": {},
   "outputs": [],
   "source": [
    "graduationratelist = []\n",
    "dropoutratelist = []\n",
    "\n",
    "for i in districtlink:\n",
    "    \n",
    "    url = 'https://data.nysed.gov/gradrate.php?year=2020&instid={}'\n",
    "    \n",
    "    url = url.format(i)\n",
    "    \n",
    "    response = requests.get(url)\n",
    "\n",
    "    rawhtml = response.text\n",
    "\n",
    "    soup = BeautifulSoup(rawhtml,'html.parser')\n",
    "\n",
    "    rawgraduationdata = soup.find_all('tr')\n",
    "\n",
    "    allstudentsrow = rawgraduationdata[2]\n",
    "\n",
    "    graduationrate = allstudentsrow.find('td', attrs = {'data-label' : 'Percentage of Graduates'})\n",
    "\n",
    "    graduationrate = graduationrate.text\n",
    "    \n",
    "    dropoutrate = allstudentsrow.find('td', attrs = {'data-label' : 'Percentage of Dropout'})\n",
    "    \n",
    "    dropoutrate = dropoutrate.text\n",
    "\n",
    "    graduationratelist.append(graduationrate)\n",
    "    \n",
    "    dropoutratelist.append(dropoutrate)\n",
    "    \n",
    "    print('graduation rate was ' + str(graduationrate) + ' and the drop out rate was ' + dropoutrate)"
   ]
  },
  {
   "cell_type": "code",
   "execution_count": null,
   "metadata": {},
   "outputs": [],
   "source": [
    "# remove % in each index\n",
    "\n",
    "graduationratelist = [x.replace('%', '') for x in graduationratelist]\n",
    "dropoutratelist = [x.replace('%', '') for x in dropoutratelist]"
   ]
  },
  {
   "cell_type": "markdown",
   "metadata": {},
   "source": [
    "Funding Per Student"
   ]
  },
  {
   "cell_type": "code",
   "execution_count": null,
   "metadata": {},
   "outputs": [],
   "source": [
    "fundingperstudentlist = []\n",
    "\n",
    "for i in districtlink:\n",
    "    \n",
    "    url = 'https://data.nysed.gov/expenditures.php?year=2020&instid={}'.format(i)\n",
    "\n",
    "    response = requests.get(url)\n",
    "\n",
    "    rawhtml = response.text\n",
    "\n",
    "    soup = BeautifulSoup(rawhtml,'html.parser')\n",
    "\n",
    "    fundingperstudent = soup.find_all('div', attrs = {'class' : 'bullet-item columns'})\n",
    "\n",
    "    if len(fundingperstudent) <1:\n",
    "\n",
    "        fundingperstudentlist.append('N/A')\n",
    "\n",
    "        print(\"No funding available\")\n",
    "\n",
    "    else:\n",
    "\n",
    "        fundingperstudent = fundingperstudent[5].find('h4').text\n",
    "\n",
    "        print(fundingperstudent)\n",
    "\n",
    "        fundingperstudentlist.append(fundingperstudent)"
   ]
  },
  {
   "cell_type": "code",
   "execution_count": null,
   "metadata": {},
   "outputs": [],
   "source": [
    "#Remove $ and commas in each index\n",
    "\n",
    "fundingperstudentlist = [x.replace('$', '') for x in fundingperstudentlist]\n",
    "fundingperstudentlist = [x.replace(',', '') for x in fundingperstudentlist]"
   ]
  },
  {
   "cell_type": "markdown",
   "metadata": {},
   "source": [
    "Total Amount of Students Enrolled Per District"
   ]
  },
  {
   "cell_type": "code",
   "execution_count": null,
   "metadata": {},
   "outputs": [],
   "source": [
    "totalenrollmentlist = []\n",
    "\n",
    "for i in districtlink:\n",
    "\n",
    "    url = 'https://data.nysed.gov/enrollment.php?year=2020&instid={}'.format(i)\n",
    "\n",
    "    response = requests.get(url)\n",
    "\n",
    "    rawhtml = response.text\n",
    "\n",
    "    soup = BeautifulSoup(rawhtml,'html.parser')\n",
    "\n",
    "    totalenrollment = soup.find('div', attrs = {'class' : 'highlight blue spacing-top-15'})\n",
    "\n",
    "    totalenrollment = totalenrollment.text\n",
    "\n",
    "    totalenrollment = totalenrollment[17:]\n",
    "    \n",
    "    totalenrollmentlist.append(totalenrollment)\n",
    "\n",
    "    print(totalenrollment)"
   ]
  },
  {
   "cell_type": "code",
   "execution_count": null,
   "metadata": {},
   "outputs": [],
   "source": [
    "#Strip off commas\n",
    "totalenrollmentlist = [x.replace(',', '') for x in totalenrollmentlist]\n",
    "print(totalenrollmentlist)"
   ]
  },
  {
   "cell_type": "markdown",
   "metadata": {},
   "source": [
    "Amount of Students that were Male"
   ]
  },
  {
   "cell_type": "code",
   "execution_count": null,
   "metadata": {},
   "outputs": [],
   "source": [
    "enrollmentlistbymale = []\n",
    "\n",
    "for i in districtlink:\n",
    "\n",
    "    url = 'https://data.nysed.gov/enrollment.php?year=2020&instid={}'.format(i)\n",
    "    \n",
    "    response = requests.get(url)\n",
    "\n",
    "    rawhtml = response.text\n",
    "\n",
    "    soup = BeautifulSoup(rawhtml,'html.parser')\n",
    "\n",
    "    maleenrollment = soup.find_all('div', attrs = {'class' : 'small-12 large-6 medium-6 bullet-item columns'})\n",
    "\n",
    "    maleenrollment = maleenrollment[0]\n",
    "\n",
    "    maleenrollment = maleenrollment.find('h4')\n",
    "    \n",
    "    maleenrollment = maleenrollment.text\n",
    "\n",
    "    print(maleenrollment)\n",
    "    \n",
    "    enrollmentlistbymale.append(maleenrollment)\n"
   ]
  },
  {
   "cell_type": "code",
   "execution_count": null,
   "metadata": {},
   "outputs": [],
   "source": [
    "#Strip off commas\n",
    "enrollmentlistbymale = [x.replace(',', '') for x in enrollmentlistbymale]"
   ]
  },
  {
   "cell_type": "markdown",
   "metadata": {},
   "source": [
    "Amount of Students that were Female"
   ]
  },
  {
   "cell_type": "code",
   "execution_count": null,
   "metadata": {},
   "outputs": [],
   "source": [
    "enrollmentlistbyfemale = []\n",
    "\n",
    "\n",
    "for i in districtlink:\n",
    "\n",
    "    url = 'https://data.nysed.gov/enrollment.php?year=2020&instid={}'.format(i)\n",
    "\n",
    "    response = requests.get(url)\n",
    "\n",
    "    rawhtml = response.text\n",
    "\n",
    "    soup = BeautifulSoup(rawhtml,'html.parser')\n",
    "\n",
    "    femaleenrollment = soup.find_all('div', attrs = {'class' : 'small-12 large-6 medium-6 bullet-item columns'})\n",
    "\n",
    "    femaleenrollment = femaleenrollment[2]\n",
    "\n",
    "    femaleenrollment = femaleenrollment.find('h4')\n",
    "\n",
    "    femaleenrollment = femaleenrollment.text\n",
    "\n",
    "    print(femaleenrollment)\n",
    "\n",
    "    enrollmentlistbyfemale.append(femaleenrollment)"
   ]
  },
  {
   "cell_type": "code",
   "execution_count": null,
   "metadata": {},
   "outputs": [],
   "source": [
    "#Strip off commas \n",
    "\n",
    "enrollmentlistbyfemale = [x.replace(',', '') for x in enrollmentlistbyfemale]\n",
    "print(enrollmentlistbyfemale)"
   ]
  },
  {
   "cell_type": "markdown",
   "metadata": {},
   "source": [
    "Percentage of Minority Students in District"
   ]
  },
  {
   "cell_type": "code",
   "execution_count": null,
   "metadata": {},
   "outputs": [],
   "source": [
    "whitestudentsenrolled = []\n",
    "\n",
    "for i in districtlink:\n",
    "\n",
    "\n",
    "    url = 'https://data.nysed.gov/enrollment.php?year=2020&instid={}'.format(i)\n",
    "\n",
    "    response = requests.get(url)\n",
    "\n",
    "    rawhtml = response.text\n",
    "\n",
    "    soup = BeautifulSoup(rawhtml,'html.parser')\n",
    "\n",
    "    amount = soup.find(text = 'WHITE')\n",
    "\n",
    "    if amount == None:\n",
    "        print('no info available')\n",
    "        whitestudentsenrolled.append('N/A')\n",
    "    else:\n",
    "        amount = amount.find_next().text\n",
    "        print(amount)\n",
    "        whitestudentsenrolled.append(amount)"
   ]
  },
  {
   "cell_type": "code",
   "execution_count": null,
   "metadata": {},
   "outputs": [],
   "source": [
    "whitestudentsenrolled = [x.replace('\\n', '') for x in whitestudentsenrolled]\n",
    "whitestudentsenrolled = [x.replace(',', '') for x in whitestudentsenrolled]\n",
    "print(whitestudentsenrolled)"
   ]
  },
  {
   "cell_type": "code",
   "execution_count": null,
   "metadata": {},
   "outputs": [],
   "source": [
    "finaldf = pd.DataFrame(list(zip(cleaneddistrictnames,graduationratelist,dropoutratelist,fundingperstudentlist,totalenrollmentlist,enrollmentlistbymale,enrollmentlistbyfemale,whitestudentsenrolled)), columns = ['DistrictName','GraduationPercentageRate','DropoutPercentageRate','FundingPerStudent','TotalEnrolled','MalesEnrolled','FemalesEnrolled','WhiteStudentsEnrolled'])"
   ]
  },
  {
   "cell_type": "code",
   "execution_count": null,
   "metadata": {},
   "outputs": [],
   "source": [
    "finaldf.columns"
   ]
  },
  {
   "cell_type": "code",
   "execution_count": null,
   "metadata": {},
   "outputs": [],
   "source": [
    "#Remove all rows that are N/A in column in order to transform into % of ethnicity column\n",
    "finaldf = finaldf[finaldf.WhiteStudentsEnrolled != 'N/A']\n",
    "finaldf.head(5)"
   ]
  },
  {
   "cell_type": "code",
   "execution_count": null,
   "metadata": {},
   "outputs": [],
   "source": [
    "#create column that represents % of students that were minority\n",
    "\n",
    "finaldf['Percentage of Minority Students'] = ((pd.to_numeric(finaldf['TotalEnrolled']) - pd.to_numeric(finaldf['WhiteStudentsEnrolled'])) * 100) /  pd.to_numeric(finaldf['TotalEnrolled'])\n",
    "finaldf['Percentage of Minority Students'] = finaldf['Percentage of Minority Students'].round(1)\n",
    "finaldf.head()"
   ]
  },
  {
   "cell_type": "code",
   "execution_count": null,
   "metadata": {},
   "outputs": [],
   "source": [
    "finaldf.to_csv('../Datasets/PreliminaryDistrictData1.csv')"
   ]
  },
  {
   "cell_type": "markdown",
   "metadata": {},
   "source": [
    "Add Median Income per District to DataFrame"
   ]
  },
  {
   "cell_type": "code",
   "execution_count": null,
   "metadata": {},
   "outputs": [],
   "source": [
    "medianincome = pd.read_csv('../Datasets/medianincomenys.csv')\n",
    "print(medianincome.head())"
   ]
  },
  {
   "cell_type": "code",
   "execution_count": null,
   "metadata": {},
   "outputs": [],
   "source": [
    "#Clean district names to match the original district names\n",
    "\n",
    "medianincome = medianincome.replace('Central School District','CSD', regex = True)\n",
    "medianincome = medianincome.replace('Union Free School District','UFSD', regex = True)"
   ]
  },
  {
   "cell_type": "markdown",
   "metadata": {},
   "source": [
    "Merge Dataframes"
   ]
  },
  {
   "cell_type": "code",
   "execution_count": null,
   "metadata": {},
   "outputs": [],
   "source": [
    "mergeddf = pd.merge(finaldf, medianincome, on = 'DistrictName', how = 'left')\n",
    "mergeddf = mergeddf.drop('WhiteStudentsEnrolled', axis = 1)\n",
    "mergeddf['Percentage of Minority Students'] = mergeddf['Percentage of Minority Students'].round(1)\n",
    "mergeddf.head()"
   ]
  },
  {
   "cell_type": "code",
   "execution_count": null,
   "metadata": {},
   "outputs": [],
   "source": [
    "mergeddf.to_csv('../Datasets/PreliminaryDistrictDataWITHMEDIANINCOME2.csv')"
   ]
  },
  {
   "cell_type": "code",
   "execution_count": null,
   "metadata": {},
   "outputs": [],
   "source": []
  }
 ],
 "metadata": {
  "kernelspec": {
   "display_name": "Python 3 (ipykernel)",
   "language": "python",
   "name": "python3"
  },
  "language_info": {
   "codemirror_mode": {
    "name": "ipython",
    "version": 3
   },
   "file_extension": ".py",
   "mimetype": "text/x-python",
   "name": "python",
   "nbconvert_exporter": "python",
   "pygments_lexer": "ipython3",
   "version": "3.9.12"
  },
  "vscode": {
   "interpreter": {
    "hash": "aee8b7b246df8f9039afb4144a1f6fd8d2ca17a180786b69acc140d282b71a49"
   }
  }
 },
 "nbformat": 4,
 "nbformat_minor": 2
}
