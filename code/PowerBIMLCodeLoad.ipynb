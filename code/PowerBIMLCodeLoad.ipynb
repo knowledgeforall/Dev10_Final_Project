{
 "cells": [
  {
   "cell_type": "code",
   "execution_count": 1,
   "metadata": {},
   "outputs": [
    {
     "ename": "NameError",
     "evalue": "name 'dataset' is not defined",
     "output_type": "error",
     "traceback": [
      "\u001b[1;31m---------------------------------------------------------------------------\u001b[0m",
      "\u001b[1;31mNameError\u001b[0m                                 Traceback (most recent call last)",
      "\u001b[1;32m<ipython-input-1-fb12a49585d7>\u001b[0m in \u001b[0;36m<module>\u001b[1;34m\u001b[0m\n\u001b[0;32m     11\u001b[0m \u001b[1;31m# dataset = pd.read_csv(loc)\u001b[0m\u001b[1;33m\u001b[0m\u001b[1;33m\u001b[0m\u001b[1;33m\u001b[0m\u001b[0m\n\u001b[0;32m     12\u001b[0m \u001b[1;33m\u001b[0m\u001b[0m\n\u001b[1;32m---> 13\u001b[1;33m \u001b[0mdataset\u001b[0m \u001b[1;33m=\u001b[0m \u001b[0mdataset\u001b[0m\u001b[1;33m[\u001b[0m\u001b[1;33m[\u001b[0m\u001b[1;34m'HouseholdIncome'\u001b[0m\u001b[1;33m,\u001b[0m\u001b[1;34m'FundingPerStudent'\u001b[0m\u001b[1;33m,\u001b[0m \u001b[1;34m'DropoutPercentageRate'\u001b[0m\u001b[1;33m,\u001b[0m \u001b[1;34m'Percentage of Minority Students'\u001b[0m\u001b[1;33m]\u001b[0m\u001b[1;33m]\u001b[0m\u001b[1;33m\u001b[0m\u001b[1;33m\u001b[0m\u001b[0m\n\u001b[0m\u001b[0;32m     14\u001b[0m \u001b[1;33m\u001b[0m\u001b[0m\n\u001b[0;32m     15\u001b[0m \u001b[0mscaler\u001b[0m \u001b[1;33m=\u001b[0m \u001b[0mStandardScaler\u001b[0m\u001b[1;33m(\u001b[0m\u001b[1;33m)\u001b[0m\u001b[1;33m\u001b[0m\u001b[1;33m\u001b[0m\u001b[0m\n",
      "\u001b[1;31mNameError\u001b[0m: name 'dataset' is not defined"
     ]
    }
   ],
   "source": [
    "import numpy as np\n",
    "import pandas as pd\n",
    "from sklearn.linear_model import Lasso\n",
    "from sklearn.model_selection import train_test_split\n",
    "from sklearn.preprocessing import StandardScaler\n",
    "from joblib import dump, load\n",
    "\n",
    "dataset = dataset[['HouseholdIncome','FundingPerStudent', 'Percentage of Minority Students']]\n",
    "\n",
    "scaler = StandardScaler()\n",
    "newdataset = scaler.fit(dataset)\n",
    "# print(type(dataset())\n",
    "X_test_std = pd.DataFrame(scaler.transform(dataset), columns=dataset.columns)\n",
    "                          \n",
    "# Load lasso model into power bi\n",
    "loaded_lasso = load(r'C:\\Users\\Minet\\Documents\\Repositories\\Dev10_Final_Project\\Datasets\\Altjoblib.model')\n",
    "\n",
    "dataset['predict'] = loaded_lasso.predict(X_test_std)\n",
    "print(loaded_lasso)\n",
    "\n",
    "# In PowerBi, Modeling, new column, add this:\n",
    "# GraduationPercentageRate = LOOKUPVALUE(nystatedistricts3[GraduationPercentageRate],nystatedistricts3[Index],nystatedistricts2[Index])\n",
    "\n",
    "# In PowerBi, Modeling, new column, add this:\n",
    "# GraduationPercentageRateResidual = (nystatedistricts2[GraduationPercentageRate]) - (nystatedistricts2[predict])"
   ]
  },
  {
   "cell_type": "code",
   "execution_count": null,
   "metadata": {},
   "outputs": [],
   "source": [
    "print(dataset)"
   ]
  },
  {
   "cell_type": "code",
   "execution_count": null,
   "metadata": {},
   "outputs": [],
   "source": []
  }
 ],
 "metadata": {
  "kernelspec": {
   "display_name": "Python 3",
   "language": "python",
   "name": "python3"
  },
  "language_info": {
   "codemirror_mode": {
    "name": "ipython",
    "version": 3
   },
   "file_extension": ".py",
   "mimetype": "text/x-python",
   "name": "python",
   "nbconvert_exporter": "python",
   "pygments_lexer": "ipython3",
   "version": "3.8.5"
  }
 },
 "nbformat": 4,
 "nbformat_minor": 4
}
