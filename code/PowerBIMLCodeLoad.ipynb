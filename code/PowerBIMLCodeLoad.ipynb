{
 "cells": [
  {
   "cell_type": "code",
   "execution_count": 7,
   "metadata": {},
   "outputs": [
    {
     "name": "stdout",
     "output_type": "stream",
     "text": [
      "Lasso()\n"
     ]
    }
   ],
   "source": [
    "import numpy as np\n",
    "import pandas as pd\n",
    "from sklearn.linear_model import Lasso\n",
    "from sklearn.model_selection import train_test_split\n",
    "from sklearn.preprocessing import StandardScaler\n",
    "from joblib import dump, load\n",
    "\n",
    "# # Storing the file path in 'loc' variable\n",
    "# loc = (r\"C:\\Users\\Minet\\Documents\\Repositories\\Dev10_Final_Project\\Datasets\\MLModelDatasetPowerBI.csv\")\n",
    "# # Importing the file from the file path contained in 'loc' into 'df' \n",
    "# dataset = pd.read_csv(loc)\n",
    "\n",
    "dataset = dataset[['HouseholdIncome','FundingPerStudent', 'DropoutPercentageRate', 'Percentage of Minority Students']]\n",
    "\n",
    "scaler = StandardScaler()\n",
    "newdataset = scaler.fit(dataset)\n",
    "# print(type(dataset())\n",
    "X_test_std = pd.DataFrame(scaler.transform(dataset), columns=dataset.columns)\n",
    "                          \n",
    "# Load lasso model into power bi\n",
    "loaded_lasso = load(r'C:\\Users\\Minet\\Documents\\Repositories\\Dev10_Final_Project\\Datasets\\joblib.model')\n",
    "\n",
    "dataset['predict'] = loaded_lasso.predict(X_test_std)\n",
    "print(loaded_lasso)\n",
    "\n",
    "# In PowerBi, Modeling, new column, add this:\n",
    "# GraduationPercentageRate = RELATED(MLModelDatasetPowerBI2[GraduationPercentageRate])\n",
    "\n",
    "# In PowerBi, Modeling, new column, add this:\n",
    "# GraduationPercentageRateResidual = (MLModelDatasetPowerBI[GraduationPercentageRate]) - (MLModelDatasetPowerBI[predict])"
   ]
  },
  {
   "cell_type": "code",
   "execution_count": 8,
   "metadata": {},
   "outputs": [
    {
     "name": "stdout",
     "output_type": "stream",
     "text": [
      "     HouseholdIncome  FundingPerStudent  DropoutPercentageRate    predict\n",
      "0            59328.0           23833.02                      3  95.286788\n",
      "1            63986.4           14013.61                      5  94.748977\n",
      "2            54818.3           24128.02                     10  93.403862\n",
      "3            76903.8           17552.56                      3  95.286911\n",
      "4            61049.2           22382.65                     12  92.865921\n",
      "..               ...                ...                    ...        ...\n",
      "605          98069.0           21454.95                     17  91.521039\n",
      "606          94866.4           18820.45                      3  95.286911\n",
      "607          61273.5           19869.81                      2  95.555843\n",
      "608          58648.5           17445.73                      6  94.479927\n",
      "609         115881.2           24424.21                      1  95.824820\n",
      "\n",
      "[610 rows x 4 columns]\n"
     ]
    }
   ],
   "source": [
    "print(dataset)"
   ]
  },
  {
   "cell_type": "code",
   "execution_count": null,
   "metadata": {},
   "outputs": [],
   "source": []
  }
 ],
 "metadata": {
  "kernelspec": {
   "display_name": "Python 3",
   "language": "python",
   "name": "python3"
  },
  "language_info": {
   "codemirror_mode": {
    "name": "ipython",
    "version": 3
   },
   "file_extension": ".py",
   "mimetype": "text/x-python",
   "name": "python",
   "nbconvert_exporter": "python",
   "pygments_lexer": "ipython3",
   "version": "3.8.5"
  }
 },
 "nbformat": 4,
 "nbformat_minor": 4
}
