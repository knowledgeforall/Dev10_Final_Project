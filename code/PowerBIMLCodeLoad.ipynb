{
 "cells": [
  {
   "cell_type": "code",
   "execution_count": null,
   "metadata": {},
   "outputs": [],
   "source": [
    "import numpy as np\n",
    "import pandas as pd\n",
    "from sklearn.linear_model import Lasso\n",
    "from sklearn.model_selection import train_test_split\n",
    "from sklearn.preprocessing import StandardScaler\n",
    "from joblib import dump, load\n",
    "\n",
    "# Storing the file path in 'loc' variable\n",
    "loc = (r\"C:\\Users\\Minet\\Documents\\Repositories\\Dev10_Final_Project\\Datasets\\MLModelDatasetPowerBI.csv\")\n",
    "# Importing the file from the file path contained in 'loc' into 'df' \n",
    "dataset = pd.read_csv(loc)\n",
    "\n",
    "scaler = StandardScaler()\n",
    "newdataset = scaler.fit(dataset)\n",
    "print(type(dataset()\n",
    "X_test_std = pd.DataFrame(scaler.transform(dataset), columns=dataset.columns\n",
    "                          \n",
    "# Load lasso model into power bi\n",
    "loaded_lasso = load(r'C:\\Users\\Minet\\Documents\\Repositories\\Dev10_Final_Project\\code\\Lasso_Model')\n",
    "\n",
    "dataset['predict']=loaded_lasso.predict(X_test_std)\n",
    "print(dataset)"
   ]
  },
  {
   "cell_type": "code",
   "execution_count": null,
   "metadata": {},
   "outputs": [],
   "source": []
  }
 ],
 "metadata": {
  "kernelspec": {
   "display_name": "Python 3",
   "language": "python",
   "name": "python3"
  },
  "language_info": {
   "codemirror_mode": {
    "name": "ipython",
    "version": 3
   },
   "file_extension": ".py",
   "mimetype": "text/x-python",
   "name": "python",
   "nbconvert_exporter": "python",
   "pygments_lexer": "ipython3",
   "version": "3.8.5"
  }
 },
 "nbformat": 4,
 "nbformat_minor": 4
}
