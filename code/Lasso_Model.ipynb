{
 "cells": [
  {
   "cell_type": "code",
   "execution_count": 1,
   "metadata": {},
   "outputs": [],
   "source": [
    "import numpy as np\n",
    "import pandas as pd\n",
    "from sklearn import datasets\n",
    "from sklearn.linear_model import Lasso\n",
    "from sklearn.model_selection import train_test_split\n",
    "from sklearn.preprocessing import StandardScaler\n",
    "from joblib import dump, load"
   ]
  },
  {
   "cell_type": "code",
   "execution_count": 2,
   "metadata": {},
   "outputs": [],
   "source": [
    "# Storing the file path in 'loc' variable\n",
    "loc = (r\"C:\\Users\\Minet\\Documents\\Repositories\\Dev10_Final_Project\\Datasets\\MLModelDatasetPowerBI.csv\")\n",
    "# Importing the file from the file path contained in 'loc' into 'df' \n",
    "df = pd.read_csv(loc)"
   ]
  },
  {
   "cell_type": "code",
   "execution_count": 10,
   "metadata": {},
   "outputs": [
    {
     "data": {
      "text/html": [
       "<div>\n",
       "<style scoped>\n",
       "    .dataframe tbody tr th:only-of-type {\n",
       "        vertical-align: middle;\n",
       "    }\n",
       "\n",
       "    .dataframe tbody tr th {\n",
       "        vertical-align: top;\n",
       "    }\n",
       "\n",
       "    .dataframe thead th {\n",
       "        text-align: right;\n",
       "    }\n",
       "</style>\n",
       "<table border=\"1\" class=\"dataframe\">\n",
       "  <thead>\n",
       "    <tr style=\"text-align: right;\">\n",
       "      <th></th>\n",
       "      <th>GraduationPercentageRate</th>\n",
       "      <th>HouseholdIncome</th>\n",
       "      <th>FundingPerStudent</th>\n",
       "      <th>DropoutPercentageRate</th>\n",
       "    </tr>\n",
       "  </thead>\n",
       "  <tbody>\n",
       "    <tr>\n",
       "      <th>0</th>\n",
       "      <td>90</td>\n",
       "      <td>59328.0</td>\n",
       "      <td>23833.02</td>\n",
       "      <td>3</td>\n",
       "    </tr>\n",
       "    <tr>\n",
       "      <th>1</th>\n",
       "      <td>92</td>\n",
       "      <td>63986.4</td>\n",
       "      <td>14013.61</td>\n",
       "      <td>5</td>\n",
       "    </tr>\n",
       "    <tr>\n",
       "      <th>2</th>\n",
       "      <td>83</td>\n",
       "      <td>54818.3</td>\n",
       "      <td>24128.02</td>\n",
       "      <td>10</td>\n",
       "    </tr>\n",
       "    <tr>\n",
       "      <th>3</th>\n",
       "      <td>95</td>\n",
       "      <td>76903.8</td>\n",
       "      <td>17552.56</td>\n",
       "      <td>3</td>\n",
       "    </tr>\n",
       "    <tr>\n",
       "      <th>4</th>\n",
       "      <td>71</td>\n",
       "      <td>61049.2</td>\n",
       "      <td>22382.65</td>\n",
       "      <td>12</td>\n",
       "    </tr>\n",
       "  </tbody>\n",
       "</table>\n",
       "</div>"
      ],
      "text/plain": [
       "   GraduationPercentageRate  HouseholdIncome  FundingPerStudent  \\\n",
       "0                        90          59328.0           23833.02   \n",
       "1                        92          63986.4           14013.61   \n",
       "2                        83          54818.3           24128.02   \n",
       "3                        95          76903.8           17552.56   \n",
       "4                        71          61049.2           22382.65   \n",
       "\n",
       "   DropoutPercentageRate  \n",
       "0                      3  \n",
       "1                      5  \n",
       "2                     10  \n",
       "3                      3  \n",
       "4                     12  "
      ]
     },
     "execution_count": 10,
     "metadata": {},
     "output_type": "execute_result"
    }
   ],
   "source": [
    "df = df[['GraduationPercentageRate','HouseholdIncome','FundingPerStudent', 'DropoutPercentageRate']]\n",
    "df.head()"
   ]
  },
  {
   "cell_type": "code",
   "execution_count": 11,
   "metadata": {},
   "outputs": [
    {
     "name": "stdout",
     "output_type": "stream",
     "text": [
      "(610, 3)\n",
      "(610,)\n"
     ]
    }
   ],
   "source": [
    "# nysd = datasets.load_nystatedistricts()\n",
    "features=['HouseholdIncome','FundingPerStudent', 'DropoutPercentageRate']\n",
    "# features=['HouseholdIncome']\n",
    "target=['GraduationPercentageRate']\n",
    "# X = dataset[features]\n",
    "# y = dataset[target]\n",
    "\n",
    "X = df[features]\n",
    "print(X.shape)\n",
    "\n",
    "y = df.iloc[:, 0]\n",
    "print(y.shape)"
   ]
  },
  {
   "cell_type": "code",
   "execution_count": 12,
   "metadata": {},
   "outputs": [
    {
     "name": "stdout",
     "output_type": "stream",
     "text": [
      "(457, 3)\n",
      "(153, 3)\n",
      "(457,)\n",
      "(153,)\n"
     ]
    },
    {
     "data": {
      "text/html": [
       "<style>#sk-container-id-2 {color: black;background-color: white;}#sk-container-id-2 pre{padding: 0;}#sk-container-id-2 div.sk-toggleable {background-color: white;}#sk-container-id-2 label.sk-toggleable__label {cursor: pointer;display: block;width: 100%;margin-bottom: 0;padding: 0.3em;box-sizing: border-box;text-align: center;}#sk-container-id-2 label.sk-toggleable__label-arrow:before {content: \"▸\";float: left;margin-right: 0.25em;color: #696969;}#sk-container-id-2 label.sk-toggleable__label-arrow:hover:before {color: black;}#sk-container-id-2 div.sk-estimator:hover label.sk-toggleable__label-arrow:before {color: black;}#sk-container-id-2 div.sk-toggleable__content {max-height: 0;max-width: 0;overflow: hidden;text-align: left;background-color: #f0f8ff;}#sk-container-id-2 div.sk-toggleable__content pre {margin: 0.2em;color: black;border-radius: 0.25em;background-color: #f0f8ff;}#sk-container-id-2 input.sk-toggleable__control:checked~div.sk-toggleable__content {max-height: 200px;max-width: 100%;overflow: auto;}#sk-container-id-2 input.sk-toggleable__control:checked~label.sk-toggleable__label-arrow:before {content: \"▾\";}#sk-container-id-2 div.sk-estimator input.sk-toggleable__control:checked~label.sk-toggleable__label {background-color: #d4ebff;}#sk-container-id-2 div.sk-label input.sk-toggleable__control:checked~label.sk-toggleable__label {background-color: #d4ebff;}#sk-container-id-2 input.sk-hidden--visually {border: 0;clip: rect(1px 1px 1px 1px);clip: rect(1px, 1px, 1px, 1px);height: 1px;margin: -1px;overflow: hidden;padding: 0;position: absolute;width: 1px;}#sk-container-id-2 div.sk-estimator {font-family: monospace;background-color: #f0f8ff;border: 1px dotted black;border-radius: 0.25em;box-sizing: border-box;margin-bottom: 0.5em;}#sk-container-id-2 div.sk-estimator:hover {background-color: #d4ebff;}#sk-container-id-2 div.sk-parallel-item::after {content: \"\";width: 100%;border-bottom: 1px solid gray;flex-grow: 1;}#sk-container-id-2 div.sk-label:hover label.sk-toggleable__label {background-color: #d4ebff;}#sk-container-id-2 div.sk-serial::before {content: \"\";position: absolute;border-left: 1px solid gray;box-sizing: border-box;top: 0;bottom: 0;left: 50%;z-index: 0;}#sk-container-id-2 div.sk-serial {display: flex;flex-direction: column;align-items: center;background-color: white;padding-right: 0.2em;padding-left: 0.2em;position: relative;}#sk-container-id-2 div.sk-item {position: relative;z-index: 1;}#sk-container-id-2 div.sk-parallel {display: flex;align-items: stretch;justify-content: center;background-color: white;position: relative;}#sk-container-id-2 div.sk-item::before, #sk-container-id-2 div.sk-parallel-item::before {content: \"\";position: absolute;border-left: 1px solid gray;box-sizing: border-box;top: 0;bottom: 0;left: 50%;z-index: -1;}#sk-container-id-2 div.sk-parallel-item {display: flex;flex-direction: column;z-index: 1;position: relative;background-color: white;}#sk-container-id-2 div.sk-parallel-item:first-child::after {align-self: flex-end;width: 50%;}#sk-container-id-2 div.sk-parallel-item:last-child::after {align-self: flex-start;width: 50%;}#sk-container-id-2 div.sk-parallel-item:only-child::after {width: 0;}#sk-container-id-2 div.sk-dashed-wrapped {border: 1px dashed gray;margin: 0 0.4em 0.5em 0.4em;box-sizing: border-box;padding-bottom: 0.4em;background-color: white;}#sk-container-id-2 div.sk-label label {font-family: monospace;font-weight: bold;display: inline-block;line-height: 1.2em;}#sk-container-id-2 div.sk-label-container {text-align: center;}#sk-container-id-2 div.sk-container {/* jupyter's `normalize.less` sets `[hidden] { display: none; }` but bootstrap.min.css set `[hidden] { display: none !important; }` so we also need the `!important` here to be able to override the default hidden behavior on the sphinx rendered scikit-learn.org. See: https://github.com/scikit-learn/scikit-learn/issues/21755 */display: inline-block !important;position: relative;}#sk-container-id-2 div.sk-text-repr-fallback {display: none;}</style><div id=\"sk-container-id-2\" class=\"sk-top-container\"><div class=\"sk-text-repr-fallback\"><pre>Lasso()</pre><b>In a Jupyter environment, please rerun this cell to show the HTML representation or trust the notebook. <br />On GitHub, the HTML representation is unable to render, please try loading this page with nbviewer.org.</b></div><div class=\"sk-container\" hidden><div class=\"sk-item\"><div class=\"sk-estimator sk-toggleable\"><input class=\"sk-toggleable__control sk-hidden--visually\" id=\"sk-estimator-id-2\" type=\"checkbox\" checked><label for=\"sk-estimator-id-2\" class=\"sk-toggleable__label sk-toggleable__label-arrow\">Lasso</label><div class=\"sk-toggleable__content\"><pre>Lasso()</pre></div></div></div></div></div>"
      ],
      "text/plain": [
       "Lasso()"
      ]
     },
     "execution_count": 12,
     "metadata": {},
     "output_type": "execute_result"
    }
   ],
   "source": [
    "# Create training and test split\n",
    "X_train, X_test, y_train, y_test = train_test_split(X, y, test_size=0.25, random_state=42)\n",
    "\n",
    "scaler = StandardScaler()\n",
    "std_feats = scaler.fit(X_train)\n",
    "\n",
    "print(X_train.shape)\n",
    "print(X_test.shape)\n",
    "print(y_train.shape)\n",
    "print(y_test.shape)\n",
    "\n",
    "# Create an instance of Lasso Regression implementation\n",
    "lasso = Lasso(alpha=1.0)\n",
    "\n",
    "# Fit the Lasso model\n",
    "lasso.fit(X_train, y_train)"
   ]
  },
  {
   "cell_type": "code",
   "execution_count": 13,
   "metadata": {},
   "outputs": [],
   "source": [
    "y_pred = lasso.predict(X_test)"
   ]
  },
  {
   "cell_type": "code",
   "execution_count": 14,
   "metadata": {},
   "outputs": [
    {
     "data": {
      "text/plain": [
       "array([93.18407578, 86.85193913, 95.81290969, 93.90037901, 79.34651052,\n",
       "       85.55426739, 90.36790041, 91.13288814, 95.58254203, 88.63206205,\n",
       "       85.73799919, 85.7408235 , 87.87393007, 79.32487193, 32.40663706,\n",
       "       76.46723876, 93.35023521, 91.78692729, 89.72082495, 81.63738954,\n",
       "       92.06869259, 91.87470202, 84.69714234, 85.89545705, 88.21131383,\n",
       "       86.95785674, 85.80631324, 88.18873975, 83.6188612 , 91.51124989,\n",
       "       90.38542122, 83.41174904, 71.79809366, 86.89738031, 96.84661624,\n",
       "       88.10064159, 90.66405846, 90.4000299 , 93.70550374, 90.41633082,\n",
       "       88.34771492, 89.22182943, 89.20679196, 94.32019761, 88.05171651,\n",
       "       92.19263896, 82.31192136, 86.67205749, 88.43006563, 95.40052078,\n",
       "       96.45119456, 96.0429247 , 92.72566249, 94.73284242, 85.04553933,\n",
       "       88.10296731, 74.69095482, 92.08303129, 95.4458804 , 92.6865682 ,\n",
       "       76.64815117, 91.9362803 , 91.39072378, 95.03649126, 91.88721832,\n",
       "       83.67793158, 77.20753884, 84.88317167, 90.6579165 , 94.32461324,\n",
       "       90.33441341, 93.58884319, 91.38317191, 90.97269264, 87.69970363,\n",
       "       84.21971325, 86.6375464 , 93.26044414, 83.89672078, 86.54990874,\n",
       "       89.85406157, 90.45905301, 81.29450802, 94.43975871, 84.10496473,\n",
       "       88.41749335, 83.60513064, 89.61854226, 88.21114999, 88.80723343,\n",
       "       95.21703645, 88.8474952 , 95.45513717, 82.66301683, 94.31458754,\n",
       "       66.03308848, 90.08769933, 91.47065986, 87.35310106, 91.60562092,\n",
       "       80.77688786, 89.49524578, 79.34629702, 87.43853619, 94.43576628,\n",
       "       91.91563816, 92.93140365, 85.55699044, 93.61740144, 95.66166236,\n",
       "       94.79147069, 90.77349996, 83.22323603, 88.21468712, 91.78913418,\n",
       "       94.17895315, 88.24551142, 70.23037377, 89.82345334, 84.17610696,\n",
       "       95.82525528, 90.98750513, 81.0505198 , 92.20051159, 88.26142515,\n",
       "       92.21853373, 94.42967913, 93.30762189, 88.60292559, 92.01432903,\n",
       "       97.26320533, 89.94857898, 83.73816869, 94.53020765, 86.41202948,\n",
       "       96.14424873, 95.15231198, 87.01941399, 94.42515461, 88.53163772,\n",
       "       93.84652218, 90.47135875, 95.55186831, 91.80346693, 95.53273672,\n",
       "       87.52087827, 89.5115394 , 85.27625606, 89.04380888, 95.93202896,\n",
       "       92.46809417, 91.93141851, 75.4854297 ])"
      ]
     },
     "execution_count": 14,
     "metadata": {},
     "output_type": "execute_result"
    }
   ],
   "source": [
    "y_pred"
   ]
  },
  {
   "cell_type": "code",
   "execution_count": 15,
   "metadata": {},
   "outputs": [
    {
     "data": {
      "text/plain": [
       "0.7601530507815153"
      ]
     },
     "execution_count": 15,
     "metadata": {},
     "output_type": "execute_result"
    }
   ],
   "source": [
    "# Create the model score\n",
    "lasso.score(X_test, y_test)"
   ]
  },
  {
   "cell_type": "code",
   "execution_count": 17,
   "metadata": {},
   "outputs": [
    {
     "ename": "SyntaxError",
     "evalue": "(unicode error) 'unicodeescape' codec can't decode bytes in position 2-3: truncated \\UXXXXXXXX escape (<ipython-input-17-7e0bb6359794>, line 1)",
     "output_type": "error",
     "traceback": [
      "\u001b[1;36m  File \u001b[1;32m\"<ipython-input-17-7e0bb6359794>\"\u001b[1;36m, line \u001b[1;32m1\u001b[0m\n\u001b[1;33m    dump(df, 'C:\\Users\\Minet\\Documents\\Repositories\\Dev10_Final_Project\\Datasets\\joblib.model')\u001b[0m\n\u001b[1;37m             ^\u001b[0m\n\u001b[1;31mSyntaxError\u001b[0m\u001b[1;31m:\u001b[0m (unicode error) 'unicodeescape' codec can't decode bytes in position 2-3: truncated \\UXXXXXXXX escape\n"
     ]
    }
   ],
   "source": [
    "dump(df, 'C:/Users/Minet/Documents/Repositories/Dev10_Final_Project\\Datasets\\joblib.model')"
   ]
  },
  {
   "cell_type": "code",
   "execution_count": null,
   "metadata": {},
   "outputs": [],
   "source": []
  }
 ],
 "metadata": {
  "kernelspec": {
   "display_name": "Python 3",
   "language": "python",
   "name": "python3"
  },
  "language_info": {
   "codemirror_mode": {
    "name": "ipython",
    "version": 3
   },
   "file_extension": ".py",
   "mimetype": "text/x-python",
   "name": "python",
   "nbconvert_exporter": "python",
   "pygments_lexer": "ipython3",
   "version": "3.8.5"
  }
 },
 "nbformat": 4,
 "nbformat_minor": 4
}
