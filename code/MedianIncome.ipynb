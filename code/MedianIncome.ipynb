{
 "cells": [
  {
   "cell_type": "code",
   "execution_count": 1,
   "id": "6d3ef555",
   "metadata": {},
   "outputs": [],
   "source": [
    "import pandas as pd"
   ]
  },
  {
   "cell_type": "code",
   "execution_count": 2,
   "id": "fb382a9a",
   "metadata": {
    "scrolled": true
   },
   "outputs": [
    {
     "data": {
      "text/plain": [
       "Index(['id', 'Geographic Area Name', 'Estimate!!Households!!Total',\n",
       "       'Margin of Error!!Households!!Total',\n",
       "       'Estimate!!Households!!Total!!Less than $10,000',\n",
       "       'Margin of Error!!Households!!Total!!Less than $10,000',\n",
       "       'Estimate!!Households!!Total!!$10,000 to $14,999',\n",
       "       'Margin of Error!!Households!!Total!!$10,000 to $14,999',\n",
       "       'Estimate!!Households!!Total!!$15,000 to $24,999',\n",
       "       'Margin of Error!!Households!!Total!!$15,000 to $24,999',\n",
       "       ...\n",
       "       'Estimate!!Nonfamily households!!Median income (dollars)',\n",
       "       'Margin of Error!!Nonfamily households!!Median income (dollars)',\n",
       "       'Estimate!!Nonfamily households!!Mean income (dollars)',\n",
       "       'Margin of Error!!Nonfamily households!!Mean income (dollars)',\n",
       "       'Estimate!!Nonfamily households!!PERCENT ALLOCATED!!Household income in the past 12 months',\n",
       "       'Margin of Error!!Nonfamily households!!PERCENT ALLOCATED!!Household income in the past 12 months',\n",
       "       'Estimate!!Nonfamily households!!PERCENT ALLOCATED!!Family income in the past 12 months',\n",
       "       'Margin of Error!!Nonfamily households!!PERCENT ALLOCATED!!Family income in the past 12 months',\n",
       "       'Estimate!!Nonfamily households!!PERCENT ALLOCATED!!Nonfamily income in the past 12 months',\n",
       "       'Margin of Error!!Nonfamily households!!PERCENT ALLOCATED!!Nonfamily income in the past 12 months'],\n",
       "      dtype='object', length=130)"
      ]
     },
     "execution_count": 2,
     "metadata": {},
     "output_type": "execute_result"
    }
   ],
   "source": [
    "# importing census data for NYS household income\n",
    "raw = pd.read_csv('../Datasets/ACSST5Y2020.S1901_dataset.csv',header=1)\n",
    "raw.columns"
   ]
  },
  {
   "cell_type": "code",
   "execution_count": 3,
   "id": "7b523b75",
   "metadata": {},
   "outputs": [
    {
     "data": {
      "text/html": [
       "<div>\n",
       "<style scoped>\n",
       "    .dataframe tbody tr th:only-of-type {\n",
       "        vertical-align: middle;\n",
       "    }\n",
       "\n",
       "    .dataframe tbody tr th {\n",
       "        vertical-align: top;\n",
       "    }\n",
       "\n",
       "    .dataframe thead th {\n",
       "        text-align: right;\n",
       "    }\n",
       "</style>\n",
       "<table border=\"1\" class=\"dataframe\">\n",
       "  <thead>\n",
       "    <tr style=\"text-align: right;\">\n",
       "      <th></th>\n",
       "      <th>Geographic Area Name</th>\n",
       "      <th>Estimate!!Households!!Median income (dollars)</th>\n",
       "    </tr>\n",
       "  </thead>\n",
       "  <tbody>\n",
       "    <tr>\n",
       "      <th>0</th>\n",
       "      <td>ZCTA5 06390</td>\n",
       "      <td>46250</td>\n",
       "    </tr>\n",
       "    <tr>\n",
       "      <th>1</th>\n",
       "      <td>ZCTA5 10001</td>\n",
       "      <td>96787</td>\n",
       "    </tr>\n",
       "    <tr>\n",
       "      <th>2</th>\n",
       "      <td>ZCTA5 10002</td>\n",
       "      <td>35607</td>\n",
       "    </tr>\n",
       "    <tr>\n",
       "      <th>3</th>\n",
       "      <td>ZCTA5 10003</td>\n",
       "      <td>129981</td>\n",
       "    </tr>\n",
       "    <tr>\n",
       "      <th>4</th>\n",
       "      <td>ZCTA5 10004</td>\n",
       "      <td>204949</td>\n",
       "    </tr>\n",
       "  </tbody>\n",
       "</table>\n",
       "</div>"
      ],
      "text/plain": [
       "  Geographic Area Name Estimate!!Households!!Median income (dollars)\n",
       "0          ZCTA5 06390                                         46250\n",
       "1          ZCTA5 10001                                         96787\n",
       "2          ZCTA5 10002                                         35607\n",
       "3          ZCTA5 10003                                        129981\n",
       "4          ZCTA5 10004                                        204949"
      ]
     },
     "execution_count": 3,
     "metadata": {},
     "output_type": "execute_result"
    }
   ],
   "source": [
    "# median income per zip code in NYS\n",
    "median_income = raw[['Geographic Area Name','Estimate!!Households!!Median income (dollars)']]\n",
    "median_income.head()"
   ]
  },
  {
   "cell_type": "code",
   "execution_count": 4,
   "id": "b91a6a03",
   "metadata": {},
   "outputs": [
    {
     "data": {
      "text/plain": [
       "6390"
      ]
     },
     "execution_count": 4,
     "metadata": {},
     "output_type": "execute_result"
    }
   ],
   "source": [
    "# testing lambda function to get just zip code\n",
    "a = 'ZCTA5 06390'\n",
    "int(a.split('ZCTA5 ')[1])"
   ]
  },
  {
   "cell_type": "code",
   "execution_count": 5,
   "id": "fc9e3f72",
   "metadata": {},
   "outputs": [
    {
     "name": "stderr",
     "output_type": "stream",
     "text": [
      "C:\\Users\\Yiqing Guo\\AppData\\Local\\Temp\\ipykernel_17448\\2480779057.py:3: SettingWithCopyWarning: \n",
      "A value is trying to be set on a copy of a slice from a DataFrame.\n",
      "Try using .loc[row_indexer,col_indexer] = value instead\n",
      "\n",
      "See the caveats in the documentation: https://pandas.pydata.org/pandas-docs/stable/user_guide/indexing.html#returning-a-view-versus-a-copy\n",
      "  median_income['Geographic Area Name'] = median_income['Geographic Area Name'].apply(lambda a: int(a.split('ZCTA5 ')[1]))\n"
     ]
    },
    {
     "data": {
      "text/html": [
       "<div>\n",
       "<style scoped>\n",
       "    .dataframe tbody tr th:only-of-type {\n",
       "        vertical-align: middle;\n",
       "    }\n",
       "\n",
       "    .dataframe tbody tr th {\n",
       "        vertical-align: top;\n",
       "    }\n",
       "\n",
       "    .dataframe thead th {\n",
       "        text-align: right;\n",
       "    }\n",
       "</style>\n",
       "<table border=\"1\" class=\"dataframe\">\n",
       "  <thead>\n",
       "    <tr style=\"text-align: right;\">\n",
       "      <th></th>\n",
       "      <th>ZipCode</th>\n",
       "      <th>MedianIncome</th>\n",
       "    </tr>\n",
       "  </thead>\n",
       "  <tbody>\n",
       "    <tr>\n",
       "      <th>0</th>\n",
       "      <td>6390</td>\n",
       "      <td>46250.0</td>\n",
       "    </tr>\n",
       "    <tr>\n",
       "      <th>1</th>\n",
       "      <td>10001</td>\n",
       "      <td>96787.0</td>\n",
       "    </tr>\n",
       "    <tr>\n",
       "      <th>2</th>\n",
       "      <td>10002</td>\n",
       "      <td>35607.0</td>\n",
       "    </tr>\n",
       "    <tr>\n",
       "      <th>3</th>\n",
       "      <td>10003</td>\n",
       "      <td>129981.0</td>\n",
       "    </tr>\n",
       "    <tr>\n",
       "      <th>4</th>\n",
       "      <td>10004</td>\n",
       "      <td>204949.0</td>\n",
       "    </tr>\n",
       "  </tbody>\n",
       "</table>\n",
       "</div>"
      ],
      "text/plain": [
       "   ZipCode  MedianIncome\n",
       "0     6390       46250.0\n",
       "1    10001       96787.0\n",
       "2    10002       35607.0\n",
       "3    10003      129981.0\n",
       "4    10004      204949.0"
      ]
     },
     "execution_count": 5,
     "metadata": {},
     "output_type": "execute_result"
    }
   ],
   "source": [
    "# converting zip codes into integers\n",
    "# renaming columns\n",
    "median_income['Geographic Area Name'] = median_income['Geographic Area Name'].apply(lambda a: int(a.split('ZCTA5 ')[1]))\n",
    "median_income = median_income.rename(columns={'Geographic Area Name': 'ZipCode', 'Estimate!!Households!!Median income (dollars)':'MedianIncome'})\n",
    "median_income['MedianIncome'] = pd.to_numeric(median_income['MedianIncome'], errors='coerce')\n",
    "median_income.head()"
   ]
  },
  {
   "cell_type": "code",
   "execution_count": 6,
   "id": "52cb3974",
   "metadata": {},
   "outputs": [
    {
     "data": {
      "text/html": [
       "<div>\n",
       "<style scoped>\n",
       "    .dataframe tbody tr th:only-of-type {\n",
       "        vertical-align: middle;\n",
       "    }\n",
       "\n",
       "    .dataframe tbody tr th {\n",
       "        vertical-align: top;\n",
       "    }\n",
       "\n",
       "    .dataframe thead th {\n",
       "        text-align: right;\n",
       "    }\n",
       "</style>\n",
       "<table border=\"1\" class=\"dataframe\">\n",
       "  <thead>\n",
       "    <tr style=\"text-align: right;\">\n",
       "      <th></th>\n",
       "      <th>ZipCode</th>\n",
       "      <th>MedianIncome</th>\n",
       "    </tr>\n",
       "  </thead>\n",
       "  <tbody>\n",
       "    <tr>\n",
       "      <th>0</th>\n",
       "      <td>6390</td>\n",
       "      <td>46250.0</td>\n",
       "    </tr>\n",
       "    <tr>\n",
       "      <th>1</th>\n",
       "      <td>10001</td>\n",
       "      <td>96787.0</td>\n",
       "    </tr>\n",
       "    <tr>\n",
       "      <th>2</th>\n",
       "      <td>10002</td>\n",
       "      <td>35607.0</td>\n",
       "    </tr>\n",
       "    <tr>\n",
       "      <th>3</th>\n",
       "      <td>10003</td>\n",
       "      <td>129981.0</td>\n",
       "    </tr>\n",
       "    <tr>\n",
       "      <th>4</th>\n",
       "      <td>10004</td>\n",
       "      <td>204949.0</td>\n",
       "    </tr>\n",
       "    <tr>\n",
       "      <th>5</th>\n",
       "      <td>10005</td>\n",
       "      <td>184681.0</td>\n",
       "    </tr>\n",
       "    <tr>\n",
       "      <th>6</th>\n",
       "      <td>10006</td>\n",
       "      <td>185268.0</td>\n",
       "    </tr>\n",
       "    <tr>\n",
       "      <th>7</th>\n",
       "      <td>10007</td>\n",
       "      <td>NaN</td>\n",
       "    </tr>\n",
       "    <tr>\n",
       "      <th>8</th>\n",
       "      <td>10009</td>\n",
       "      <td>68220.0</td>\n",
       "    </tr>\n",
       "    <tr>\n",
       "      <th>9</th>\n",
       "      <td>10010</td>\n",
       "      <td>139188.0</td>\n",
       "    </tr>\n",
       "  </tbody>\n",
       "</table>\n",
       "</div>"
      ],
      "text/plain": [
       "   ZipCode  MedianIncome\n",
       "0     6390       46250.0\n",
       "1    10001       96787.0\n",
       "2    10002       35607.0\n",
       "3    10003      129981.0\n",
       "4    10004      204949.0\n",
       "5    10005      184681.0\n",
       "6    10006      185268.0\n",
       "7    10007           NaN\n",
       "8    10009       68220.0\n",
       "9    10010      139188.0"
      ]
     },
     "execution_count": 6,
     "metadata": {},
     "output_type": "execute_result"
    }
   ],
   "source": [
    "median_income.head(10)"
   ]
  },
  {
   "cell_type": "code",
   "execution_count": 7,
   "id": "275c39c1",
   "metadata": {},
   "outputs": [],
   "source": [
    "# importing school to zip code files\n",
    "locations = pd.read_csv('../Datasets/grf21_lea_zcta5ce20.csv')\n",
    "nyc_locations = pd.read_csv('../Datasets/nycdistrict-zipcode.csv')"
   ]
  },
  {
   "cell_type": "code",
   "execution_count": 8,
   "id": "7171a3e0",
   "metadata": {},
   "outputs": [
    {
     "data": {
      "text/html": [
       "<div>\n",
       "<style scoped>\n",
       "    .dataframe tbody tr th:only-of-type {\n",
       "        vertical-align: middle;\n",
       "    }\n",
       "\n",
       "    .dataframe tbody tr th {\n",
       "        vertical-align: top;\n",
       "    }\n",
       "\n",
       "    .dataframe thead th {\n",
       "        text-align: right;\n",
       "    }\n",
       "</style>\n",
       "<table border=\"1\" class=\"dataframe\">\n",
       "  <thead>\n",
       "    <tr style=\"text-align: right;\">\n",
       "      <th></th>\n",
       "      <th>LEAID</th>\n",
       "      <th>NAME_LEA21</th>\n",
       "      <th>ZCTA5CE20</th>\n",
       "      <th>COUNT</th>\n",
       "      <th>LANDAREA</th>\n",
       "      <th>WATERAREA</th>\n",
       "    </tr>\n",
       "  </thead>\n",
       "  <tbody>\n",
       "    <tr>\n",
       "      <th>0</th>\n",
       "      <td>100001</td>\n",
       "      <td>Fort Rucker School District</td>\n",
       "      <td>0</td>\n",
       "      <td>4</td>\n",
       "      <td>38.768437</td>\n",
       "      <td>1.038161</td>\n",
       "    </tr>\n",
       "    <tr>\n",
       "      <th>1</th>\n",
       "      <td>100090</td>\n",
       "      <td>Anniston City School District</td>\n",
       "      <td>0</td>\n",
       "      <td>7</td>\n",
       "      <td>3.851023</td>\n",
       "      <td>0.013616</td>\n",
       "    </tr>\n",
       "    <tr>\n",
       "      <th>2</th>\n",
       "      <td>100270</td>\n",
       "      <td>Baldwin County School District</td>\n",
       "      <td>0</td>\n",
       "      <td>24</td>\n",
       "      <td>131.184301</td>\n",
       "      <td>358.000989</td>\n",
       "    </tr>\n",
       "    <tr>\n",
       "      <th>3</th>\n",
       "      <td>100360</td>\n",
       "      <td>Bibb County School District</td>\n",
       "      <td>0</td>\n",
       "      <td>12</td>\n",
       "      <td>35.795340</td>\n",
       "      <td>0.004291</td>\n",
       "    </tr>\n",
       "    <tr>\n",
       "      <th>4</th>\n",
       "      <td>100540</td>\n",
       "      <td>Calhoun County School District</td>\n",
       "      <td>0</td>\n",
       "      <td>14</td>\n",
       "      <td>63.066080</td>\n",
       "      <td>0.164629</td>\n",
       "    </tr>\n",
       "  </tbody>\n",
       "</table>\n",
       "</div>"
      ],
      "text/plain": [
       "    LEAID                      NAME_LEA21  ZCTA5CE20  COUNT    LANDAREA  \\\n",
       "0  100001     Fort Rucker School District          0      4   38.768437   \n",
       "1  100090   Anniston City School District          0      7    3.851023   \n",
       "2  100270  Baldwin County School District          0     24  131.184301   \n",
       "3  100360     Bibb County School District          0     12   35.795340   \n",
       "4  100540  Calhoun County School District          0     14   63.066080   \n",
       "\n",
       "    WATERAREA  \n",
       "0    1.038161  \n",
       "1    0.013616  \n",
       "2  358.000989  \n",
       "3    0.004291  \n",
       "4    0.164629  "
      ]
     },
     "execution_count": 8,
     "metadata": {},
     "output_type": "execute_result"
    }
   ],
   "source": [
    "locations.head()"
   ]
  },
  {
   "cell_type": "code",
   "execution_count": 9,
   "id": "d21683a7",
   "metadata": {},
   "outputs": [],
   "source": [
    "# just school district to zip code\n",
    "districtZCTA = locations[['NAME_LEA21','ZCTA5CE20']]\n",
    "\n",
    "# filter for just NYS zip codes\n",
    "districtZCTA = districtZCTA[(districtZCTA['ZCTA5CE20']==6390) | ((districtZCTA['ZCTA5CE20']>=10001) & (districtZCTA['ZCTA5CE20']<=14905))]\n",
    "\n",
    "# exclude NYCDOE on district name because it does not show specific districts in NYC\n",
    "districtZCTA = districtZCTA[districtZCTA['NAME_LEA21'] != 'New York City Department Of Education']\n",
    "\n",
    "# rename columns for merging\n",
    "districtZCTA = districtZCTA.rename(columns={'NAME_LEA21':'DistrictName','ZCTA5CE20':'ZipCode'})\n",
    "\n",
    "# uppercase for naming conventions\n",
    "districtZCTA['DistrictName'] = districtZCTA['DistrictName'].apply(lambda x: x.upper())"
   ]
  },
  {
   "cell_type": "code",
   "execution_count": 10,
   "id": "73bd0b64",
   "metadata": {},
   "outputs": [],
   "source": [
    "# dictionary for mapping nyc school districts to their numbers in the nyc to zip code dataset\n",
    "districtnamemap = {1:'NYC GEOG DIST # 1 - MANHATTAN',\n",
    " 2:'NYC GEOG DIST # 2 - MANHATTAN',\n",
    " 3:'NYC GEOG DIST # 3 - MANHATTAN',\n",
    " 4:'NYC GEOG DIST # 4 - MANHATTAN',\n",
    " 5:'NYC GEOG DIST # 5 - MANHATTAN',\n",
    " 6:'NYC GEOG DIST # 6 - MANHATTAN',\n",
    " 7:'NYC GEOG DIST # 7 - BRONX',\n",
    " 8:'NYC GEOG DIST # 8 - BRONX',\n",
    " 9:'NYC GEOG DIST # 9 - BRONX',\n",
    " 10:'NYC GEOG DIST #10 - BRONX',\n",
    " 11:'NYC GEOG DIST #11 - BRONX',\n",
    " 12:'NYC GEOG DIST #12 - BRONX',\n",
    " 13:'NYC GEOG DIST #13 - BROOKLYN',\n",
    " 14:'NYC GEOG DIST #14 - BROOKLYN',\n",
    " 15:'NYC GEOG DIST #15 - BROOKLYN',\n",
    " 16:'NYC GEOG DIST #16 - BROOKLYN',\n",
    " 17:'NYC GEOG DIST #17 - BROOKLYN',\n",
    " 18:'NYC GEOG DIST #18 - BROOKLYN',\n",
    " 19:'NYC GEOG DIST #19 - BROOKLYN',\n",
    " 20:'NYC GEOG DIST #20 - BROOKLYN',\n",
    " 21:'NYC GEOG DIST #21 - BROOKLYN',\n",
    " 22:'NYC GEOG DIST #22 - BROOKLYN',\n",
    " 23:'NYC GEOG DIST #23 - BROOKLYN',\n",
    " 24:'NYC GEOG DIST #24 - QUEENS',\n",
    " 25:'NYC GEOG DIST #25 - QUEENS',\n",
    " 26:'NYC GEOG DIST #26 - QUEENS',\n",
    " 27:'NYC GEOG DIST #27 - QUEENS',\n",
    " 28:'NYC GEOG DIST #28 - QUEENS',\n",
    " 29:'NYC GEOG DIST #29 - QUEENS',\n",
    " 30:'NYC GEOG DIST #30 - QUEENS',\n",
    " 31:'NYC GEOG DIST #31 - STATEN ISLAND',\n",
    " 32:'NYC GEOG DIST #32 - BROOKLYN'}\n",
    "\n",
    "nyc_locations['District'] = nyc_locations['District'].apply(lambda x: districtnamemap[x])\n",
    "nyc_locations = nyc_locations.rename(columns={'District':'DistrictName'})"
   ]
  },
  {
   "cell_type": "code",
   "execution_count": 11,
   "id": "2197687f",
   "metadata": {},
   "outputs": [],
   "source": [
    "# merge datasets for district and median income\n",
    "district_medianincome = districtZCTA.merge(median_income, on='ZipCode', how='left')\n",
    "nyc_medianincome = nyc_locations.merge(median_income, on='ZipCode', how='left')"
   ]
  },
  {
   "cell_type": "code",
   "execution_count": 12,
   "id": "967de468",
   "metadata": {},
   "outputs": [],
   "source": [
    "# group by district name, find average median income\n",
    "district = district_medianincome.groupby(\"DistrictName\")['MedianIncome'].mean()\n",
    "nycdistrict = nyc_medianincome.groupby(\"DistrictName\")['MedianIncome'].mean()"
   ]
  },
  {
   "cell_type": "code",
   "execution_count": 13,
   "id": "1a92533d",
   "metadata": {},
   "outputs": [],
   "source": [
    "# export\n",
    "district.to_csv('../Datasets/medianincomenys.csv')\n",
    "nycdistrict.to_csv('../Datasets/medianincomenyc.csv')"
   ]
  }
 ],
 "metadata": {
  "kernelspec": {
   "display_name": "Python 3 (ipykernel)",
   "language": "python",
   "name": "python3"
  },
  "language_info": {
   "codemirror_mode": {
    "name": "ipython",
    "version": 3
   },
   "file_extension": ".py",
   "mimetype": "text/x-python",
   "name": "python",
   "nbconvert_exporter": "python",
   "pygments_lexer": "ipython3",
   "version": "3.9.12"
  }
 },
 "nbformat": 4,
 "nbformat_minor": 5
}
